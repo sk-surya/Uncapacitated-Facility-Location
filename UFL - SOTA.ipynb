{
 "cells": [
  {
   "cell_type": "code",
   "execution_count": 888,
   "metadata": {
    "ExecuteTime": {
     "end_time": "2020-10-24T12:20:34.123106Z",
     "start_time": "2020-10-24T12:20:34.118086Z"
    }
   },
   "outputs": [],
   "source": [
    "import gurobipy as gp\n",
    "from gurobipy import GRB\n",
    "import networkx as nx\n",
    "import numpy as np\n",
    "import datetime\n",
    "import time\n",
    "\n",
    "import random\n",
    "\n",
    "import math\n",
    "import pandas as pd\n",
    "import heapq as hq"
   ]
  },
  {
   "cell_type": "code",
   "execution_count": 198,
   "metadata": {
    "ExecuteTime": {
     "end_time": "2020-10-24T06:42:05.980718Z",
     "start_time": "2020-10-24T06:42:05.976727Z"
    }
   },
   "outputs": [
    {
     "name": "stdout",
     "output_type": "stream",
     "text": [
      "F:\\Portfolio\\UFL\n"
     ]
    }
   ],
   "source": [
    "import os\n",
    "print(os.getcwd())"
   ]
  },
  {
   "cell_type": "code",
   "execution_count": 199,
   "metadata": {
    "ExecuteTime": {
     "end_time": "2020-10-24T06:42:06.236688Z",
     "start_time": "2020-10-24T06:42:06.233662Z"
    }
   },
   "outputs": [],
   "source": [
    "os.chdir(r'F:/Portfolio/UFL/')"
   ]
  },
  {
   "cell_type": "code",
   "execution_count": 200,
   "metadata": {
    "ExecuteTime": {
     "end_time": "2020-10-24T06:42:06.540119Z",
     "start_time": "2020-10-24T06:42:06.536131Z"
    }
   },
   "outputs": [],
   "source": [
    "data_path = r\"data/M/O/\"\n",
    "filename = 'MO1'"
   ]
  },
  {
   "cell_type": "code",
   "execution_count": 201,
   "metadata": {
    "ExecuteTime": {
     "end_time": "2020-10-24T06:42:06.942295Z",
     "start_time": "2020-10-24T06:42:06.920220Z"
    }
   },
   "outputs": [
    {
     "name": "stdout",
     "output_type": "stream",
     "text": [
      "100 100\n"
     ]
    }
   ],
   "source": [
    "with open(data_path+filename) as file:\n",
    "    sizes = np.fromstring(file.readline(), dtype=int, sep=\" \")\n",
    "    m, n = sizes[0], sizes[1] # m = no. of customers; n = no. of facilites\n",
    "    print(m, n)\n",
    "    capacity = np.empty(n)\n",
    "    opening_cost = np.empty(n)\n",
    "    demand = np.empty(m)\n",
    "    serving_cost = np.empty([m, n])\n",
    "    for i in range(n):\n",
    "        section_1_line = np.fromstring(file.readline(), dtype=float, sep=\" \")\n",
    "        capacity[i], opening_cost[i] = section_1_line[0], section_1_line[1]\n",
    "    for i in range(m):\n",
    "        demand[i] = np.fromstring(file.readline(), dtype=float, sep=\" \")\n",
    "        serving_cost[i, :] = np.fromstring(file.readline(), dtype=float, sep=\" \")"
   ]
  },
  {
   "cell_type": "code",
   "execution_count": 202,
   "metadata": {
    "ExecuteTime": {
     "end_time": "2020-10-24T06:42:07.534180Z",
     "start_time": "2020-10-24T06:42:07.400503Z"
    }
   },
   "outputs": [
    {
     "data": {
      "text/plain": [
       "<matplotlib.axes._subplots.AxesSubplot at 0x2234a29b548>"
      ]
     },
     "execution_count": 202,
     "metadata": {},
     "output_type": "execute_result"
    },
    {
     "data": {
      "image/png": "[encoded data removed]",
      "text/plain": [
       "<Figure size 432x288 with 1 Axes>"
      ]
     },
     "metadata": {
      "needs_background": "light"
     },
     "output_type": "display_data"
    }
   ],
   "source": [
    "dff = pd.Series(serving_cost.flatten())\n",
    "dff.plot.hist()"
   ]
  },
  {
   "cell_type": "code",
   "execution_count": 203,
   "metadata": {
    "ExecuteTime": {
     "end_time": "2020-10-24T06:42:08.317521Z",
     "start_time": "2020-10-24T06:42:08.312535Z"
    }
   },
   "outputs": [
    {
     "name": "stdout",
     "output_type": "stream",
     "text": [
      "100 Demand Locations or Clients\n",
      "100 Facilities\n"
     ]
    }
   ],
   "source": [
    "n_client = len(demand)\n",
    "n_facility = len(opening_cost)\n",
    "print(n_client, \"Demand Locations or Clients\")\n",
    "\n",
    "print(n_facility, \"Facilities\")"
   ]
  },
  {
   "cell_type": "code",
   "execution_count": 204,
   "metadata": {
    "ExecuteTime": {
     "end_time": "2020-10-24T06:42:08.797173Z",
     "start_time": "2020-10-24T06:42:08.792186Z"
    }
   },
   "outputs": [
    {
     "data": {
      "text/plain": [
       "array([200.55  , 212.658 ,  95.921 , 117.834 , 171.031 , 256.357 ,\n",
       "       218.632 , 171.061 , 180.971 , 168.295 , 159.696 , 196.258 ,\n",
       "       157.606 , 162.212 , 102.261 , 109.421 , 124.012 , 168.598 ,\n",
       "       105.592 , 168.381 , 131.903 , 190.719 , 116.779 ,  50.    ,\n",
       "        94.175 , 110.655 , 211.602 , 143.065 , 163.495 , 136.551 ,\n",
       "        73.6585, 214.622 , 223.719 ,  99.4707, 203.919 , 207.559 ,\n",
       "        80.861 , 251.72  , 150.969 , 250.894 , 243.853 , 131.426 ,\n",
       "       241.631 , 149.976 ,  65.3497, 166.159 ,  69.8907, 225.944 ,\n",
       "       133.146 ,  90.6736, 140.899 , 178.587 , 300.    , 117.857 ,\n",
       "       182.391 , 137.279 , 159.54  , 129.923 ,  71.5244, 119.644 ,\n",
       "       133.431 , 230.612 , 133.794 , 190.345 , 158.711 , 152.179 ,\n",
       "       179.039 , 143.685 , 203.228 , 163.309 , 156.848 , 227.786 ,\n",
       "       166.931 , 151.377 , 284.253 , 119.007 , 152.611 , 174.067 ,\n",
       "       197.942 , 154.078 , 238.836 , 214.227 , 269.128 , 104.872 ,\n",
       "        61.2307, 149.104 , 154.132 , 152.156 , 173.297 , 123.23  ,\n",
       "       208.532 , 117.895 , 201.913 , 206.541 , 103.296 , 128.902 ,\n",
       "        82.1205, 113.02  ,  50.6598, 157.762 ])"
      ]
     },
     "execution_count": 204,
     "metadata": {},
     "output_type": "execute_result"
    }
   ],
   "source": [
    "opening_cost"
   ]
  },
  {
   "cell_type": "code",
   "execution_count": 274,
   "metadata": {
    "ExecuteTime": {
     "end_time": "2020-10-24T06:59:17.758583Z",
     "start_time": "2020-10-24T06:59:17.754557Z"
    }
   },
   "outputs": [],
   "source": [
    "df = pd.DataFrame(serving_cost)\n",
    "\n",
    "df = df.rename_axis(\"Facilities\", axis=\"columns\")\n",
    "df = df.rename_axis(\"Clients\", axis=\"rows\")\n"
   ]
  },
  {
   "cell_type": "code",
   "execution_count": 275,
   "metadata": {
    "ExecuteTime": {
     "end_time": "2020-10-24T06:59:18.011437Z",
     "start_time": "2020-10-24T06:59:17.992489Z"
    }
   },
   "outputs": [
    {
     "data": {
      "text/html": [
       "<div>\n",
       "<style scoped>\n",
       "    .dataframe tbody tr th:only-of-type {\n",
       "        vertical-align: middle;\n",
       "    }\n",
       "\n",
       "    .dataframe tbody tr th {\n",
       "        vertical-align: top;\n",
       "    }\n",
       "\n",
       "    .dataframe thead th {\n",
       "        text-align: right;\n",
       "    }\n",
       "</style>\n",
       "<table border=\"1\" class=\"dataframe\">\n",
       "  <thead>\n",
       "    <tr style=\"text-align: right;\">\n",
       "      <th>Facilities</th>\n",
       "      <th>0</th>\n",
       "      <th>1</th>\n",
       "      <th>2</th>\n",
       "      <th>3</th>\n",
       "      <th>4</th>\n",
       "      <th>5</th>\n",
       "      <th>6</th>\n",
       "      <th>7</th>\n",
       "      <th>8</th>\n",
       "      <th>9</th>\n",
       "      <th>...</th>\n",
       "      <th>90</th>\n",
       "      <th>91</th>\n",
       "      <th>92</th>\n",
       "      <th>93</th>\n",
       "      <th>94</th>\n",
       "      <th>95</th>\n",
       "      <th>96</th>\n",
       "      <th>97</th>\n",
       "      <th>98</th>\n",
       "      <th>99</th>\n",
       "    </tr>\n",
       "    <tr>\n",
       "      <th>Clients</th>\n",
       "      <th></th>\n",
       "      <th></th>\n",
       "      <th></th>\n",
       "      <th></th>\n",
       "      <th></th>\n",
       "      <th></th>\n",
       "      <th></th>\n",
       "      <th></th>\n",
       "      <th></th>\n",
       "      <th></th>\n",
       "      <th></th>\n",
       "      <th></th>\n",
       "      <th></th>\n",
       "      <th></th>\n",
       "      <th></th>\n",
       "      <th></th>\n",
       "      <th></th>\n",
       "      <th></th>\n",
       "      <th></th>\n",
       "      <th></th>\n",
       "      <th></th>\n",
       "    </tr>\n",
       "  </thead>\n",
       "  <tbody>\n",
       "    <tr>\n",
       "      <th>0</th>\n",
       "      <td>2.37627</td>\n",
       "      <td>5.31695</td>\n",
       "      <td>5.57118</td>\n",
       "      <td>5.83591</td>\n",
       "      <td>9.15027</td>\n",
       "      <td>5.82114</td>\n",
       "      <td>5.77960</td>\n",
       "      <td>5.67768</td>\n",
       "      <td>4.49169</td>\n",
       "      <td>6.72159</td>\n",
       "      <td>...</td>\n",
       "      <td>6.46666</td>\n",
       "      <td>2.17409</td>\n",
       "      <td>3.42665</td>\n",
       "      <td>4.39220</td>\n",
       "      <td>7.97902</td>\n",
       "      <td>5.49366</td>\n",
       "      <td>5.04129</td>\n",
       "      <td>8.15626</td>\n",
       "      <td>3.59279</td>\n",
       "      <td>4.40500</td>\n",
       "    </tr>\n",
       "    <tr>\n",
       "      <th>1</th>\n",
       "      <td>9.45280</td>\n",
       "      <td>3.21590</td>\n",
       "      <td>7.81713</td>\n",
       "      <td>6.76244</td>\n",
       "      <td>8.37225</td>\n",
       "      <td>4.75309</td>\n",
       "      <td>4.95507</td>\n",
       "      <td>5.71846</td>\n",
       "      <td>4.03081</td>\n",
       "      <td>8.64646</td>\n",
       "      <td>...</td>\n",
       "      <td>6.50485</td>\n",
       "      <td>4.65022</td>\n",
       "      <td>7.14090</td>\n",
       "      <td>4.46423</td>\n",
       "      <td>4.46473</td>\n",
       "      <td>5.88768</td>\n",
       "      <td>7.99023</td>\n",
       "      <td>6.40044</td>\n",
       "      <td>3.12517</td>\n",
       "      <td>7.52048</td>\n",
       "    </tr>\n",
       "    <tr>\n",
       "      <th>2</th>\n",
       "      <td>17.18240</td>\n",
       "      <td>5.51389</td>\n",
       "      <td>15.24870</td>\n",
       "      <td>10.05870</td>\n",
       "      <td>5.66571</td>\n",
       "      <td>11.18050</td>\n",
       "      <td>4.92069</td>\n",
       "      <td>19.05850</td>\n",
       "      <td>12.24140</td>\n",
       "      <td>4.41981</td>\n",
       "      <td>...</td>\n",
       "      <td>18.32730</td>\n",
       "      <td>13.46990</td>\n",
       "      <td>4.83425</td>\n",
       "      <td>9.93675</td>\n",
       "      <td>6.29434</td>\n",
       "      <td>10.62850</td>\n",
       "      <td>19.63810</td>\n",
       "      <td>8.94523</td>\n",
       "      <td>19.53320</td>\n",
       "      <td>7.04157</td>\n",
       "    </tr>\n",
       "    <tr>\n",
       "      <th>3</th>\n",
       "      <td>8.27847</td>\n",
       "      <td>7.92073</td>\n",
       "      <td>8.12976</td>\n",
       "      <td>7.45249</td>\n",
       "      <td>7.86574</td>\n",
       "      <td>4.25142</td>\n",
       "      <td>3.49568</td>\n",
       "      <td>7.83872</td>\n",
       "      <td>3.50782</td>\n",
       "      <td>9.26896</td>\n",
       "      <td>...</td>\n",
       "      <td>6.16701</td>\n",
       "      <td>8.55182</td>\n",
       "      <td>2.00478</td>\n",
       "      <td>7.41689</td>\n",
       "      <td>4.18369</td>\n",
       "      <td>9.23453</td>\n",
       "      <td>8.91085</td>\n",
       "      <td>2.15172</td>\n",
       "      <td>3.20007</td>\n",
       "      <td>8.19683</td>\n",
       "    </tr>\n",
       "    <tr>\n",
       "      <th>4</th>\n",
       "      <td>3.99216</td>\n",
       "      <td>5.89499</td>\n",
       "      <td>9.66227</td>\n",
       "      <td>6.38394</td>\n",
       "      <td>6.88412</td>\n",
       "      <td>6.33420</td>\n",
       "      <td>8.17981</td>\n",
       "      <td>2.32795</td>\n",
       "      <td>7.02377</td>\n",
       "      <td>7.42180</td>\n",
       "      <td>...</td>\n",
       "      <td>7.02252</td>\n",
       "      <td>7.86589</td>\n",
       "      <td>4.46928</td>\n",
       "      <td>2.65191</td>\n",
       "      <td>6.82275</td>\n",
       "      <td>2.42109</td>\n",
       "      <td>4.28059</td>\n",
       "      <td>6.75315</td>\n",
       "      <td>2.41353</td>\n",
       "      <td>9.38202</td>\n",
       "    </tr>\n",
       "    <tr>\n",
       "      <th>5</th>\n",
       "      <td>25.71220</td>\n",
       "      <td>17.33960</td>\n",
       "      <td>22.92840</td>\n",
       "      <td>27.97390</td>\n",
       "      <td>29.20100</td>\n",
       "      <td>13.43600</td>\n",
       "      <td>29.70420</td>\n",
       "      <td>16.17880</td>\n",
       "      <td>19.77090</td>\n",
       "      <td>12.74470</td>\n",
       "      <td>...</td>\n",
       "      <td>19.06710</td>\n",
       "      <td>25.18980</td>\n",
       "      <td>18.01580</td>\n",
       "      <td>7.63610</td>\n",
       "      <td>19.45870</td>\n",
       "      <td>28.75690</td>\n",
       "      <td>7.78761</td>\n",
       "      <td>22.73110</td>\n",
       "      <td>10.18860</td>\n",
       "      <td>10.86750</td>\n",
       "    </tr>\n",
       "    <tr>\n",
       "      <th>6</th>\n",
       "      <td>26.97930</td>\n",
       "      <td>20.58670</td>\n",
       "      <td>7.82801</td>\n",
       "      <td>12.69540</td>\n",
       "      <td>8.69063</td>\n",
       "      <td>20.13180</td>\n",
       "      <td>16.82760</td>\n",
       "      <td>22.38500</td>\n",
       "      <td>8.50509</td>\n",
       "      <td>12.52740</td>\n",
       "      <td>...</td>\n",
       "      <td>17.21960</td>\n",
       "      <td>21.96030</td>\n",
       "      <td>24.46160</td>\n",
       "      <td>15.39770</td>\n",
       "      <td>7.41909</td>\n",
       "      <td>27.77360</td>\n",
       "      <td>19.74140</td>\n",
       "      <td>26.28320</td>\n",
       "      <td>22.69280</td>\n",
       "      <td>10.55900</td>\n",
       "    </tr>\n",
       "    <tr>\n",
       "      <th>7</th>\n",
       "      <td>10.75020</td>\n",
       "      <td>16.55460</td>\n",
       "      <td>27.81010</td>\n",
       "      <td>25.42820</td>\n",
       "      <td>16.26130</td>\n",
       "      <td>16.03730</td>\n",
       "      <td>33.16300</td>\n",
       "      <td>16.79670</td>\n",
       "      <td>18.95580</td>\n",
       "      <td>19.59980</td>\n",
       "      <td>...</td>\n",
       "      <td>9.25596</td>\n",
       "      <td>33.48890</td>\n",
       "      <td>12.05020</td>\n",
       "      <td>28.84500</td>\n",
       "      <td>29.83140</td>\n",
       "      <td>36.02330</td>\n",
       "      <td>38.19920</td>\n",
       "      <td>15.47270</td>\n",
       "      <td>36.94960</td>\n",
       "      <td>29.39150</td>\n",
       "    </tr>\n",
       "    <tr>\n",
       "      <th>8</th>\n",
       "      <td>11.56260</td>\n",
       "      <td>9.68654</td>\n",
       "      <td>5.78615</td>\n",
       "      <td>16.07650</td>\n",
       "      <td>14.74730</td>\n",
       "      <td>13.45510</td>\n",
       "      <td>17.89360</td>\n",
       "      <td>16.29380</td>\n",
       "      <td>15.30210</td>\n",
       "      <td>5.16640</td>\n",
       "      <td>...</td>\n",
       "      <td>6.04054</td>\n",
       "      <td>10.01700</td>\n",
       "      <td>16.12530</td>\n",
       "      <td>15.65320</td>\n",
       "      <td>19.12560</td>\n",
       "      <td>15.61060</td>\n",
       "      <td>8.91963</td>\n",
       "      <td>7.04095</td>\n",
       "      <td>14.27070</td>\n",
       "      <td>5.30753</td>\n",
       "    </tr>\n",
       "    <tr>\n",
       "      <th>9</th>\n",
       "      <td>6.53897</td>\n",
       "      <td>2.65009</td>\n",
       "      <td>6.94259</td>\n",
       "      <td>8.44896</td>\n",
       "      <td>6.76115</td>\n",
       "      <td>5.07554</td>\n",
       "      <td>4.26267</td>\n",
       "      <td>2.53451</td>\n",
       "      <td>2.24855</td>\n",
       "      <td>4.98454</td>\n",
       "      <td>...</td>\n",
       "      <td>5.74774</td>\n",
       "      <td>4.79331</td>\n",
       "      <td>3.22946</td>\n",
       "      <td>6.88911</td>\n",
       "      <td>9.07417</td>\n",
       "      <td>5.57366</td>\n",
       "      <td>9.32748</td>\n",
       "      <td>6.61053</td>\n",
       "      <td>4.13808</td>\n",
       "      <td>4.22766</td>\n",
       "    </tr>\n",
       "  </tbody>\n",
       "</table>\n",
       "<p>10 rows × 100 columns</p>\n",
       "</div>"
      ],
      "text/plain": [
       "Facilities        0         1         2         3         4         5   \\\n",
       "Clients                                                                  \n",
       "0            2.37627   5.31695   5.57118   5.83591   9.15027   5.82114   \n",
       "1            9.45280   3.21590   7.81713   6.76244   8.37225   4.75309   \n",
       "2           17.18240   5.51389  15.24870  10.05870   5.66571  11.18050   \n",
       "3            8.27847   7.92073   8.12976   7.45249   7.86574   4.25142   \n",
       "4            3.99216   5.89499   9.66227   6.38394   6.88412   6.33420   \n",
       "5           25.71220  17.33960  22.92840  27.97390  29.20100  13.43600   \n",
       "6           26.97930  20.58670   7.82801  12.69540   8.69063  20.13180   \n",
       "7           10.75020  16.55460  27.81010  25.42820  16.26130  16.03730   \n",
       "8           11.56260   9.68654   5.78615  16.07650  14.74730  13.45510   \n",
       "9            6.53897   2.65009   6.94259   8.44896   6.76115   5.07554   \n",
       "\n",
       "Facilities        6         7         8         9   ...        90        91  \\\n",
       "Clients                                             ...                       \n",
       "0            5.77960   5.67768   4.49169   6.72159  ...   6.46666   2.17409   \n",
       "1            4.95507   5.71846   4.03081   8.64646  ...   6.50485   4.65022   \n",
       "2            4.92069  19.05850  12.24140   4.41981  ...  18.32730  13.46990   \n",
       "3            3.49568   7.83872   3.50782   9.26896  ...   6.16701   8.55182   \n",
       "4            8.17981   2.32795   7.02377   7.42180  ...   7.02252   7.86589   \n",
       "5           29.70420  16.17880  19.77090  12.74470  ...  19.06710  25.18980   \n",
       "6           16.82760  22.38500   8.50509  12.52740  ...  17.21960  21.96030   \n",
       "7           33.16300  16.79670  18.95580  19.59980  ...   9.25596  33.48890   \n",
       "8           17.89360  16.29380  15.30210   5.16640  ...   6.04054  10.01700   \n",
       "9            4.26267   2.53451   2.24855   4.98454  ...   5.74774   4.79331   \n",
       "\n",
       "Facilities        92        93        94        95        96        97  \\\n",
       "Clients                                                                  \n",
       "0            3.42665   4.39220   7.97902   5.49366   5.04129   8.15626   \n",
       "1            7.14090   4.46423   4.46473   5.88768   7.99023   6.40044   \n",
       "2            4.83425   9.93675   6.29434  10.62850  19.63810   8.94523   \n",
       "3            2.00478   7.41689   4.18369   9.23453   8.91085   2.15172   \n",
       "4            4.46928   2.65191   6.82275   2.42109   4.28059   6.75315   \n",
       "5           18.01580   7.63610  19.45870  28.75690   7.78761  22.73110   \n",
       "6           24.46160  15.39770   7.41909  27.77360  19.74140  26.28320   \n",
       "7           12.05020  28.84500  29.83140  36.02330  38.19920  15.47270   \n",
       "8           16.12530  15.65320  19.12560  15.61060   8.91963   7.04095   \n",
       "9            3.22946   6.88911   9.07417   5.57366   9.32748   6.61053   \n",
       "\n",
       "Facilities        98        99  \n",
       "Clients                         \n",
       "0            3.59279   4.40500  \n",
       "1            3.12517   7.52048  \n",
       "2           19.53320   7.04157  \n",
       "3            3.20007   8.19683  \n",
       "4            2.41353   9.38202  \n",
       "5           10.18860  10.86750  \n",
       "6           22.69280  10.55900  \n",
       "7           36.94960  29.39150  \n",
       "8           14.27070   5.30753  \n",
       "9            4.13808   4.22766  \n",
       "\n",
       "[10 rows x 100 columns]"
      ]
     },
     "execution_count": 275,
     "metadata": {},
     "output_type": "execute_result"
    }
   ],
   "source": [
    "df.head(10)"
   ]
  },
  {
   "cell_type": "code",
   "execution_count": 284,
   "metadata": {
    "ExecuteTime": {
     "end_time": "2020-10-24T07:00:08.078880Z",
     "start_time": "2020-10-24T07:00:08.073894Z"
    }
   },
   "outputs": [
    {
     "data": {
      "text/plain": [
       "2.17409"
      ]
     },
     "execution_count": 284,
     "metadata": {},
     "output_type": "execute_result"
    }
   ],
   "source": [
    "df.loc[0,91] # df[client, facility]"
   ]
  },
  {
   "cell_type": "code",
   "execution_count": 295,
   "metadata": {
    "ExecuteTime": {
     "end_time": "2020-10-24T07:02:40.809677Z",
     "start_time": "2020-10-24T07:02:40.777757Z"
    }
   },
   "outputs": [
    {
     "data": {
      "text/html": [
       "<div>\n",
       "<style scoped>\n",
       "    .dataframe tbody tr th:only-of-type {\n",
       "        vertical-align: middle;\n",
       "    }\n",
       "\n",
       "    .dataframe tbody tr th {\n",
       "        vertical-align: top;\n",
       "    }\n",
       "\n",
       "    .dataframe thead th {\n",
       "        text-align: right;\n",
       "    }\n",
       "</style>\n",
       "<table border=\"1\" class=\"dataframe\">\n",
       "  <thead>\n",
       "    <tr style=\"text-align: right;\">\n",
       "      <th>Facilities</th>\n",
       "      <th>0</th>\n",
       "      <th>1</th>\n",
       "      <th>2</th>\n",
       "      <th>3</th>\n",
       "      <th>4</th>\n",
       "      <th>5</th>\n",
       "      <th>6</th>\n",
       "      <th>7</th>\n",
       "      <th>8</th>\n",
       "      <th>9</th>\n",
       "      <th>...</th>\n",
       "      <th>90</th>\n",
       "      <th>91</th>\n",
       "      <th>92</th>\n",
       "      <th>93</th>\n",
       "      <th>94</th>\n",
       "      <th>95</th>\n",
       "      <th>96</th>\n",
       "      <th>97</th>\n",
       "      <th>98</th>\n",
       "      <th>99</th>\n",
       "    </tr>\n",
       "    <tr>\n",
       "      <th>Clients</th>\n",
       "      <th></th>\n",
       "      <th></th>\n",
       "      <th></th>\n",
       "      <th></th>\n",
       "      <th></th>\n",
       "      <th></th>\n",
       "      <th></th>\n",
       "      <th></th>\n",
       "      <th></th>\n",
       "      <th></th>\n",
       "      <th></th>\n",
       "      <th></th>\n",
       "      <th></th>\n",
       "      <th></th>\n",
       "      <th></th>\n",
       "      <th></th>\n",
       "      <th></th>\n",
       "      <th></th>\n",
       "      <th></th>\n",
       "      <th></th>\n",
       "      <th></th>\n",
       "    </tr>\n",
       "  </thead>\n",
       "  <tbody>\n",
       "    <tr>\n",
       "      <th>0</th>\n",
       "      <td>91</td>\n",
       "      <td>62</td>\n",
       "      <td>0</td>\n",
       "      <td>45</td>\n",
       "      <td>54</td>\n",
       "      <td>78</td>\n",
       "      <td>22</td>\n",
       "      <td>80</td>\n",
       "      <td>27</td>\n",
       "      <td>20</td>\n",
       "      <td>...</td>\n",
       "      <td>34</td>\n",
       "      <td>11</td>\n",
       "      <td>4</td>\n",
       "      <td>28</td>\n",
       "      <td>43</td>\n",
       "      <td>82</td>\n",
       "      <td>24</td>\n",
       "      <td>21</td>\n",
       "      <td>40</td>\n",
       "      <td>35</td>\n",
       "    </tr>\n",
       "    <tr>\n",
       "      <th>1</th>\n",
       "      <td>13</td>\n",
       "      <td>67</td>\n",
       "      <td>33</td>\n",
       "      <td>76</td>\n",
       "      <td>59</td>\n",
       "      <td>39</td>\n",
       "      <td>81</td>\n",
       "      <td>98</td>\n",
       "      <td>35</td>\n",
       "      <td>1</td>\n",
       "      <td>...</td>\n",
       "      <td>88</td>\n",
       "      <td>0</td>\n",
       "      <td>64</td>\n",
       "      <td>14</td>\n",
       "      <td>16</td>\n",
       "      <td>27</td>\n",
       "      <td>38</td>\n",
       "      <td>32</td>\n",
       "      <td>55</td>\n",
       "      <td>52</td>\n",
       "    </tr>\n",
       "  </tbody>\n",
       "</table>\n",
       "<p>2 rows × 100 columns</p>\n",
       "</div>"
      ],
      "text/plain": [
       "Facilities  0   1   2   3   4   5   6   7   8   9   ...  90  91  92  93  94  \\\n",
       "Clients                                             ...                       \n",
       "0           91  62   0  45  54  78  22  80  27  20  ...  34  11   4  28  43   \n",
       "1           13  67  33  76  59  39  81  98  35   1  ...  88   0  64  14  16   \n",
       "\n",
       "Facilities  95  96  97  98  99  \n",
       "Clients                         \n",
       "0           82  24  21  40  35  \n",
       "1           27  38  32  55  52  \n",
       "\n",
       "[2 rows x 100 columns]"
      ]
     },
     "execution_count": 295,
     "metadata": {},
     "output_type": "execute_result"
    }
   ],
   "source": [
    "# for each client get sorted list of warehouse (closest first)\n",
    "closest_facility_df = df.apply(np.argsort, axis = 1)\n",
    "closest_facility_df.head(2)"
   ]
  },
  {
   "cell_type": "markdown",
   "metadata": {},
   "source": [
    "### TABU Search\n",
    "A simple tabu search for warehouse location\n",
    "Author links open overlay panelLaurentMichelPascalVan Hentenryck\n",
    "\n",
    "y=〈y1,…,yn〉, where yw is 1 if warehouse w is open and 0 otherwise.\n",
    "\n",
    "<math><mtext>Open(y)={w∈N∣y</mtext><msub><mi></mi><mn>w</mn></msub><mtext>=1}</mtext></math>\n",
    "to represent the warehouses that are opened in a state y.\n",
    "\n",
    "#### Neighborhood\n",
    "1-OPT neighborhood (set of solutions obtainted by flipping 1 item of y.\n",
    "\n",
    "<math><mtext>N</mtext><mtext>(y)={flip(y,w)∣w∈W},</mtext></math>\n",
    "\n",
    "<math><mtext>flip(〈y</mtext><msub><mi></mi><mn>1</mn></msub><mtext>,…,y</mtext><msub><mi></mi><mn>n</mn></msub><mtext>〉,w)=〈y</mtext><msub><mi></mi><mn>1</mn></msub><mtext>,…,y</mtext><msub><mi></mi><mn>w−1</mn></msub><mtext>,!y</mtext><msub><mi></mi><mn>w</mn></msub><mtext>,y</mtext><msub><mi></mi><mn>w+1</mn></msub><mtext>,…,y</mtext><msub><mi></mi><mn>n</mn></msub><mtext>〉.</mtext></math>\n",
    "\n",
    "#### Tabu search\n",
    "The tabu-search algorithm uses a tabu-list T which contains the set of warehouses that cannot be flipped. At each iteration, the algorithm considers the set of neighbors which are not tabu and whose gains are maximal. In other words, the set of non-tabu neighbors is defined as\n",
    "\n",
    "<math><mtext>N</mtext><msup><mi></mi><mn>T</mn></msup><mtext>(y)={flip(y,w)∣w∈W⧹T}.</mtext></math>"
   ]
  },
  {
   "cell_type": "code",
   "execution_count": 12,
   "metadata": {
    "ExecuteTime": {
     "end_time": "2020-10-24T05:22:07.995478Z",
     "start_time": "2020-10-24T05:22:07.991446Z"
    }
   },
   "outputs": [],
   "source": [
    "# find neighbors for current y\n",
    "# find best neighbor & best objective\n",
    "# consider the set of neighbors:\n",
    "# the neighbors that have the best_objective(y)\n",
    "# if none of these neighbors degrade the current solution\n",
    "# randomly select a w and marks it tabu for a number of iterations\n",
    "# if the neighbors degrade the current solution, the alg performs a diversification\n",
    "# It randomly selects an open warehouse and closes it\n",
    "\n",
    "# the following represents the best neighbors & their objectives compactly\n",
    "# bestFlips(y) = {w | flip(y,w) in best_neighbors}\n",
    "# bestGain(y) = obj(y) - bestObj(y)\n",
    "\n",
    "# do iterations\n",
    "# at each iteration, if the best gain >= 0\n",
    "# select a warehouse in bestFlips(y) and flip it\n",
    "# adjust tabu-list"
   ]
  },
  {
   "cell_type": "code",
   "execution_count": null,
   "metadata": {},
   "outputs": [],
   "source": [
    "nbStable = 0\n",
    "best = obj\n",
    "S_ = y\n",
    "tLen = 10\n",
    "stabilityLimit = 500\n",
    "while nbStable < stabilityLimit :\n",
    "    old = obj\n",
    "    if bestGain(y) >= 0:\n",
    "        w = random(bestFlips(y));\n",
    "        y[w] = not(y[w])\n",
    "        t[w] = it + tLen;\n",
    "        if obj < old and tLen > 2:\n",
    "            tLen = tLen - 1;\n",
    "        if obj >= old and tlen < 10:\n",
    "            tLen = tLen + 1;\n",
    "        it = it + 1;\n",
    "    else:\n",
    "        w = random(Open(y));\n",
    "        y[w] = 0;\n",
    "    \n",
    "    if obj < best:\n",
    "        best = obj\n",
    "        S_ = y\n",
    "        nbStable = 0\n",
    "    else:\n",
    "        nbStable = nbStable + 1"
   ]
  },
  {
   "cell_type": "code",
   "execution_count": 819,
   "metadata": {
    "ExecuteTime": {
     "end_time": "2020-10-24T09:45:18.553904Z",
     "start_time": "2020-10-24T09:45:18.550947Z"
    }
   },
   "outputs": [],
   "source": [
    "f = opening_cost"
   ]
  },
  {
   "cell_type": "code",
   "execution_count": 820,
   "metadata": {
    "ExecuteTime": {
     "end_time": "2020-10-24T09:45:18.868001Z",
     "start_time": "2020-10-24T09:45:18.864011Z"
    }
   },
   "outputs": [
    {
     "name": "stdout",
     "output_type": "stream",
     "text": [
      "9245.1874\n"
     ]
    }
   ],
   "source": [
    "initial = np.random.randint(low=0,high=2, size=n_facility)\n",
    "initial_cost = np.sum(f * initial)\n",
    "print(initial_cost)"
   ]
  },
  {
   "cell_type": "code",
   "execution_count": 821,
   "metadata": {
    "ExecuteTime": {
     "end_time": "2020-10-24T09:45:19.508800Z",
     "start_time": "2020-10-24T09:45:19.504807Z"
    }
   },
   "outputs": [],
   "source": [
    "old_in = initial\n",
    "old_f = f\n"
   ]
  },
  {
   "cell_type": "code",
   "execution_count": 822,
   "metadata": {
    "ExecuteTime": {
     "end_time": "2020-10-24T09:45:20.708974Z",
     "start_time": "2020-10-24T09:45:20.704984Z"
    }
   },
   "outputs": [],
   "source": [
    "def openf(solution):\n",
    "    return np.where(solution)[0]"
   ]
  },
  {
   "cell_type": "code",
   "execution_count": 823,
   "metadata": {
    "ExecuteTime": {
     "end_time": "2020-10-24T09:45:21.444655Z",
     "start_time": "2020-10-24T09:45:21.440634Z"
    }
   },
   "outputs": [
    {
     "data": {
      "text/plain": [
       "array([ 0,  7,  8,  9, 11, 12, 14, 15, 16, 19, 21, 22, 26, 27, 28, 29, 30,\n",
       "       34, 35, 36, 37, 38, 40, 41, 43, 44, 45, 48, 49, 51, 52, 54, 55, 58,\n",
       "       60, 61, 62, 64, 66, 67, 68, 69, 71, 74, 75, 77, 78, 79, 80, 81, 83,\n",
       "       84, 87, 88, 89, 94, 95, 96], dtype=int64)"
      ]
     },
     "execution_count": 823,
     "metadata": {},
     "output_type": "execute_result"
    }
   ],
   "source": [
    "o = openf(initial)\n",
    "o"
   ]
  },
  {
   "cell_type": "code",
   "execution_count": 824,
   "metadata": {
    "ExecuteTime": {
     "end_time": "2020-10-24T09:45:21.962753Z",
     "start_time": "2020-10-24T09:45:21.919859Z"
    }
   },
   "outputs": [],
   "source": [
    "# get the closest warehouse for each store in current config\n",
    "a_0 = [df.iloc[client][o].idxmin() for client in range(n_client)]\n"
   ]
  },
  {
   "cell_type": "code",
   "execution_count": 825,
   "metadata": {
    "ExecuteTime": {
     "end_time": "2020-10-24T09:45:22.429067Z",
     "start_time": "2020-10-24T09:45:22.416095Z"
    }
   },
   "outputs": [
    {
     "data": {
      "text/plain": [
       "(100, 2)"
      ]
     },
     "execution_count": 825,
     "metadata": {},
     "output_type": "execute_result"
    }
   ],
   "source": [
    "# get the top 2 closest warehouses for each store in current config\n",
    "open_set = set(o)\n",
    "top2 = []\n",
    "for client in range(n_client):\n",
    "    closest_2 = []\n",
    "    for idx, val in enumerate(closest_facility_df.iloc[client]):\n",
    "        if val in open_set:\n",
    "            closest_2.append(val)\n",
    "        if len(closest_2) == 2:\n",
    "            break\n",
    "    top2.append(closest_2)\n",
    "    #print(closest_2)\n",
    "    # go to next_client\n",
    "np.array(top2).shape"
   ]
  },
  {
   "cell_type": "code",
   "execution_count": 1156,
   "metadata": {
    "ExecuteTime": {
     "end_time": "2020-10-24T12:58:24.152921Z",
     "start_time": "2020-10-24T12:58:23.544391Z"
    }
   },
   "outputs": [],
   "source": [
    "# for priority queue\n",
    "# we need a priority queue for each store, where closest warehouse gets higher priority\n",
    "# lets first have a master reference\n",
    "\n",
    "# create a list for each store\n",
    "store_warehouse_priority = np.empty((n_client, n_facility))\n",
    "#priority = 0\n",
    "for store in range(n_client):\n",
    "    for w in closest_facility_df.iloc[0]:\n",
    "        #priority += 1   # starts with 1\n",
    "        store_warehouse_priority[store][w] = df.iloc[store][w]\n",
    "    \n",
    "#store_p = list(zip(range(n_client), closest_facility_df.iloc[0]))"
   ]
  },
  {
   "cell_type": "code",
   "execution_count": 1222,
   "metadata": {
    "ExecuteTime": {
     "end_time": "2020-10-24T13:37:10.512999Z",
     "start_time": "2020-10-24T13:37:10.506018Z"
    }
   },
   "outputs": [],
   "source": [
    "# lets create a list of priority queues\n",
    "# one for each store\n",
    "# each store heapq takes (priority, warehouse) format\n",
    "store_pq = [list( zip(store_warehouse_priority[s], range(n_facility)) )  for s in range(n_client)]\n",
    "for s in range(n_client):\n",
    "    hq.heapify(store_pq[s])"
   ]
  },
  {
   "cell_type": "code",
   "execution_count": 826,
   "metadata": {
    "ExecuteTime": {
     "end_time": "2020-10-24T09:45:23.047662Z",
     "start_time": "2020-10-24T09:45:23.040681Z"
    }
   },
   "outputs": [],
   "source": [
    "# store it in 3 arrays of shape (n_client, ) for <closest, closest_cost, 2nd_closest_cost> : a, b, d\n",
    "a = np.empty(n_client) # closest open facility of each client\n",
    "b = np.empty(n_client)\n",
    "d = np.empty(n_client)\n",
    "\n",
    "a = np.array(top2)[:, 0]\n",
    "next_a = np.array(top2)[:, 1]\n",
    "\n",
    "b = np.diag(df[a])   # serving costs of each client from their closest open facility\n",
    "d = np.diag(df[next_a]) # serving costs of each client from their 2nd closest open facility\n"
   ]
  },
  {
   "cell_type": "code",
   "execution_count": 827,
   "metadata": {
    "ExecuteTime": {
     "end_time": "2020-10-24T09:45:24.724718Z",
     "start_time": "2020-10-24T09:45:24.719732Z"
    }
   },
   "outputs": [
    {
     "name": "stdout",
     "output_type": "stream",
     "text": [
      "WARNING : Unconnected warehouses {38, 41, 11, 78, 48, 81, 55, 89, 60, 30} are open.\n"
     ]
    }
   ],
   "source": [
    "if set(np.unique(a)) != open_set:\n",
    "    print(f\"WARNING : Unconnected warehouses {open_set - set(np.unique(a))} are open.\")"
   ]
  },
  {
   "cell_type": "code",
   "execution_count": 828,
   "metadata": {
    "ExecuteTime": {
     "end_time": "2020-10-24T09:45:25.555520Z",
     "start_time": "2020-10-24T09:45:25.552508Z"
    }
   },
   "outputs": [],
   "source": [
    "# create a mapping of warehouse to connected stores\n",
    "# we attach a store to its closest open facility as this would give\n",
    "# the minimum serving cost for a given configuration\n",
    "# naming may confuse : here warehouse[0] contains the stores that are connected to it\n",
    "warehouse = {}\n",
    "for w in open_set:\n",
    "    warehouse[w] = []\n",
    "    \n",
    "for client in range(n_client):\n",
    "    closest_w = a[client]\n",
    "    warehouse[closest_w].append(client)\n",
    "\n",
    "# Note: there may be warehouses that are not connected to any store at all\n",
    "# Should we handle it??? lets decide later\n",
    "#print(warehouse)"
   ]
  },
  {
   "cell_type": "code",
   "execution_count": 829,
   "metadata": {
    "ExecuteTime": {
     "end_time": "2020-10-24T09:45:26.356155Z",
     "start_time": "2020-10-24T09:45:26.352197Z"
    }
   },
   "outputs": [],
   "source": [
    "def closingBenefit(w, b, d):\n",
    "    #assumes w is open\n",
    "    con_stores = warehouse[w]\n",
    "    old_serving_costs = b[con_stores]\n",
    "    new_serving_costs = d[warehouse[con_stores]] # because, once u close a w, \n",
    "                                                 # those stores automatically gets \n",
    "                                                 # connected to the next closest w\n",
    "    serving_cost_increase = sum(new_serving_costs - old_serving_costs)\n",
    "    g_minus = f[w] - serving_cost_increase\n",
    "    return g_minus"
   ]
  },
  {
   "cell_type": "code",
   "execution_count": 835,
   "metadata": {
    "ExecuteTime": {
     "end_time": "2020-10-24T09:45:42.387561Z",
     "start_time": "2020-10-24T09:45:42.384554Z"
    }
   },
   "outputs": [],
   "source": [
    "# use only for initial compute\n",
    "def obj(solution, a, f):\n",
    "    total_f = np.sum(f * solution)\n",
    "    total_c = 0\n",
    "    for client in range(n_client):\n",
    "        assert df.iloc[client, a[client]] > 0\n",
    "        total_c += df.iloc[client, a[client]]\n",
    "\n",
    "    return total_f + total_c"
   ]
  },
  {
   "cell_type": "code",
   "execution_count": 837,
   "metadata": {
    "ExecuteTime": {
     "end_time": "2020-10-24T09:45:43.497126Z",
     "start_time": "2020-10-24T09:45:43.488150Z"
    }
   },
   "outputs": [
    {
     "data": {
      "text/plain": [
       "9841.27704"
      ]
     },
     "execution_count": 837,
     "metadata": {},
     "output_type": "execute_result"
    }
   ],
   "source": [
    "obj(initial, a, f)"
   ]
  },
  {
   "cell_type": "code",
   "execution_count": 838,
   "metadata": {
    "ExecuteTime": {
     "end_time": "2020-10-24T09:45:54.165496Z",
     "start_time": "2020-10-24T09:45:54.160509Z"
    }
   },
   "outputs": [],
   "source": [
    "a0, b0, d0 = a.copy(), b.copy(), d.copy()\n",
    "a1, b1, d1 = a.copy(), b.copy(), d.copy()\n"
   ]
  },
  {
   "cell_type": "code",
   "execution_count": 839,
   "metadata": {
    "ExecuteTime": {
     "end_time": "2020-10-24T09:46:18.308534Z",
     "start_time": "2020-10-24T09:46:18.304544Z"
    }
   },
   "outputs": [],
   "source": [
    "g_minus0 = np.zeros(n_facility)\n",
    "g_minus1 = np.zeros(n_facility)\n",
    "g_plus = np.zeros(n_facility)\n",
    "#g_plus1 = np.zeros(n_facility)"
   ]
  },
  {
   "cell_type": "code",
   "execution_count": 847,
   "metadata": {
    "ExecuteTime": {
     "end_time": "2020-10-24T09:47:40.213807Z",
     "start_time": "2020-10-24T09:47:40.209828Z"
    }
   },
   "outputs": [],
   "source": [
    "# for warehouses where (a0 != a1) or (b0 != b1) or (d0 != d1)\n",
    "# update g_minus0 and g_minus1\n",
    "\n",
    "condition = np.where( (a0 != a1) | (b0 != b1) | (d0 != d1) ) # returns indices (ie., stores)\n",
    "g_minus0[condition] += b0[condition] - d0[condition]\n",
    "g_minus1[condition] -= b1[condition] - d1[condition]"
   ]
  },
  {
   "cell_type": "code",
   "execution_count": null,
   "metadata": {},
   "outputs": [],
   "source": [
    "condition1 = np.where ( (b1 <= b0) )\n",
    "# warehouses where c_ws < b1[s]\n",
    "g_plus[condition1] -=  "
   ]
  },
  {
   "cell_type": "code",
   "execution_count": 848,
   "metadata": {
    "ExecuteTime": {
     "end_time": "2020-10-24T09:47:41.524456Z",
     "start_time": "2020-10-24T09:47:41.520482Z"
    }
   },
   "outputs": [
    {
     "data": {
      "text/plain": [
       "array([], dtype=float64)"
      ]
     },
     "execution_count": 848,
     "metadata": {},
     "output_type": "execute_result"
    }
   ],
   "source": [
    "b0[condition]"
   ]
  },
  {
   "cell_type": "code",
   "execution_count": 698,
   "metadata": {
    "ExecuteTime": {
     "end_time": "2020-10-24T09:30:47.013487Z",
     "start_time": "2020-10-24T09:30:47.008465Z"
    }
   },
   "outputs": [
    {
     "data": {
      "text/plain": [
       "(array([1], dtype=int64),)"
      ]
     },
     "execution_count": 698,
     "metadata": {},
     "output_type": "execute_result"
    }
   ],
   "source": [
    "np.where( (a0 != a1) | (b0 != b1) | (d0 != d1) )"
   ]
  },
  {
   "cell_type": "code",
   "execution_count": null,
   "metadata": {},
   "outputs": [],
   "source": [
    "class Solution:\n",
    "    def __init__(self, y_arr, a, b, d, obj, warehouse, store_warehouse_priority, n_client):\n",
    "        self.sol = y_arr\n",
    "        self.a = a   # closest open warehouse for each client\n",
    "        self.b = b   # cost of closest warehouse\n",
    "        self.d = d   # 2nd best cost to open warehouse for each client\n",
    "        self.obj = obj\n",
    "        self.warehouse = warehouse\n",
    "        self.pq = []\n",
    "        make_heaps(self.y_arr, store_warehouse_priority)\n",
    "        self.n_client = n_client\n",
    "        \n",
    "    def flip(self, w):\n",
    "        if self.sol[w] == 0:\n",
    "            action = \"open\"\n",
    "            g_plus = -f[w]\n",
    "            stores = range(n_client)\n",
    "            for s in stores:\n",
    "                b0[s], a0[s] = hq.heappop(self.pq[s])\n",
    "                g_plus += max(0, b - df.iloc[s, w])\n",
    "                hq.heappush((b0[s], a0[s]))\n",
    "        else:\n",
    "            action = 'close':\n",
    "            stores = self.warehouse[w]   # stores that are attached to the closing warehouse\n",
    "            # for each of these stores, now find the best open warehouse\n",
    "            g_minus = f[w]\n",
    "            for s in stores:\n",
    "                b0[s], a0[s] = hq.heappop(self.pq[s])\n",
    "                d0[s], c2 = hq.heappop(self.pq[s])\n",
    "                hq.heappush((d0[s], c2))\n",
    "                hq.heappush((b0[s], a0[s]))\n",
    "                g_minus -= (d0[s] - b0[s])\n",
    "                \n",
    "        new_sol = self.sol.copy()\n",
    "        new_sol[w] =  int(not new_sol[w])\n",
    "        return new_sol\n",
    "                \n",
    "    def make_heaps(self, y_arr, store_warehouse_priority):\n",
    "        open_set = np.where(y_arr[0])\n",
    "        for s in range(self.n_client):\n",
    "            li = []\n",
    "            for w in open_set:\n",
    "                priority = store_warehouse_priority[s][w]\n",
    "                li.append((priority, w))\n",
    "            hq.heapify(li)\n",
    "            self.pq.append(li)\n",
    "        \n",
    "    def search_neighborhood(self, T):\n",
    "        # T = tabu-list (dictionary of warehouse to tabu_counter)\n",
    "        for w in range(len(self.sol)):\n",
    "            if w not in T:\n",
    "                neighbor = flip(w)\n",
    "        "
   ]
  },
  {
   "cell_type": "code",
   "execution_count": 857,
   "metadata": {
    "ExecuteTime": {
     "end_time": "2020-10-24T11:24:19.153139Z",
     "start_time": "2020-10-24T11:24:19.149117Z"
    }
   },
   "outputs": [],
   "source": [
    "s = {1:2, 2:4, 8:9}"
   ]
  },
  {
   "cell_type": "code",
   "execution_count": 858,
   "metadata": {
    "ExecuteTime": {
     "end_time": "2020-10-24T11:24:20.299539Z",
     "start_time": "2020-10-24T11:24:20.292544Z"
    }
   },
   "outputs": [
    {
     "data": {
      "text/plain": [
       "{1: 2, 2: 4, 8: 9}"
      ]
     },
     "execution_count": 858,
     "metadata": {},
     "output_type": "execute_result"
    }
   ],
   "source": [
    "s"
   ]
  },
  {
   "cell_type": "code",
   "execution_count": 859,
   "metadata": {
    "ExecuteTime": {
     "end_time": "2020-10-24T11:24:28.876409Z",
     "start_time": "2020-10-24T11:24:28.836515Z"
    }
   },
   "outputs": [
    {
     "ename": "TypeError",
     "evalue": "unhashable type: 'list'",
     "output_type": "error",
     "traceback": [
      "\u001b[1;31m---------------------------------------------------------------------------\u001b[0m",
      "\u001b[1;31mTypeError\u001b[0m                                 Traceback (most recent call last)",
      "\u001b[1;32m<ipython-input-859-7d1026c98c45>\u001b[0m in \u001b[0;36m<module>\u001b[1;34m\u001b[0m\n\u001b[1;32m----> 1\u001b[1;33m \u001b[1;33m[\u001b[0m\u001b[1;36m1\u001b[0m\u001b[1;33m,\u001b[0m\u001b[1;36m2\u001b[0m\u001b[1;33m]\u001b[0m \u001b[1;32min\u001b[0m \u001b[0ms\u001b[0m\u001b[1;33m\u001b[0m\u001b[1;33m\u001b[0m\u001b[0m\n\u001b[0m",
      "\u001b[1;31mTypeError\u001b[0m: unhashable type: 'list'"
     ]
    }
   ],
   "source": []
  }
 ],
 "metadata": {
  "kernelspec": {
   "display_name": "Python 3",
   "language": "python",
   "name": "python3"
  },
  "language_info": {
   "codemirror_mode": {
    "name": "ipython",
    "version": 3
   },
   "file_extension": ".py",
   "mimetype": "text/x-python",
   "name": "python",
   "nbconvert_exporter": "python",
   "pygments_lexer": "ipython3",
   "version": "3.7.6"
  }
 },
 "nbformat": 4,
 "nbformat_minor": 4
}
